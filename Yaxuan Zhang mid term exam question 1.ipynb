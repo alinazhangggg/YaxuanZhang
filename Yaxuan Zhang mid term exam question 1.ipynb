{
 "cells": [
  {
   "cell_type": "code",
   "execution_count": 43,
   "id": "cfbadc3b",
   "metadata": {},
   "outputs": [],
   "source": [
    "import numpy as np\n",
    "import pandas as pd\n",
    "import yfinance as yf\n",
    "import matplotlib.pyplot as plt"
   ]
  },
  {
   "cell_type": "code",
   "execution_count": 44,
   "id": "f1448e5b",
   "metadata": {},
   "outputs": [
    {
     "name": "stdout",
     "output_type": "stream",
     "text": [
      "[*********************100%%**********************]  1 of 1 completed\n"
     ]
    }
   ],
   "source": [
    "data = yf.download('ZTS', start='2015-01-01', end='2019-12-31',interval=\"1mo\")"
   ]
  },
  {
   "cell_type": "code",
   "execution_count": 45,
   "id": "efa0af51",
   "metadata": {},
   "outputs": [
    {
     "name": "stdout",
     "output_type": "stream",
     "text": [
      "                 Open       High        Low      Close  Adj Close    Volume\n",
      "Date                                                                       \n",
      "2015-01-01  43.459999  44.869999  42.290001  42.730000  40.133102  57971400\n",
      "2015-02-01  43.029999  47.400002  42.369999  46.090000  43.370312  82007700\n",
      "2015-03-01  46.090000  47.919998  45.480000  46.290001  43.558502  67841400\n",
      "2015-04-01  46.299999  47.990002  44.310001  44.419998  41.798847  60055100\n",
      "2015-05-01  44.730000  49.959999  44.389999  49.770000  46.917187  74675100\n"
     ]
    }
   ],
   "source": [
    "print(data.head())"
   ]
  },
  {
   "cell_type": "code",
   "execution_count": 46,
   "id": "b51e9287",
   "metadata": {},
   "outputs": [],
   "source": [
    "data['Monthly_Return'] = data['Adj Close'].pct_change()"
   ]
  },
  {
   "cell_type": "code",
   "execution_count": 47,
   "id": "96925a2e",
   "metadata": {},
   "outputs": [],
   "source": [
    "annualized_return = data['Monthly_Return'].mean() * 12"
   ]
  },
  {
   "cell_type": "code",
   "execution_count": 48,
   "id": "695ac527",
   "metadata": {},
   "outputs": [],
   "source": [
    "annualized_volatility = data['Monthly_Return'].std() * np.sqrt(12)"
   ]
  },
  {
   "cell_type": "code",
   "execution_count": 49,
   "id": "abb58a5d",
   "metadata": {},
   "outputs": [
    {
     "name": "stdout",
     "output_type": "stream",
     "text": [
      "Annualized Return: 25.66%\n",
      "Annualized Volatility: 18.82%\n"
     ]
    }
   ],
   "source": [
    "print(f'Annualized Return: {annualized_return * 100:.2f}%')\n",
    "print(f'Annualized Volatility: {annualized_volatility * 100:.2f}%')"
   ]
  },
  {
   "cell_type": "code",
   "execution_count": 50,
   "id": "23434c74",
   "metadata": {},
   "outputs": [
    {
     "name": "stdout",
     "output_type": "stream",
     "text": [
      "Requirement already satisfied: yesg in /Users/alinazhang/anaconda3/lib/python3.11/site-packages (2.1.1)\n",
      "Note: you may need to restart the kernel to use updated packages.\n"
     ]
    }
   ],
   "source": [
    "pip install yesg"
   ]
  },
  {
   "cell_type": "code",
   "execution_count": 51,
   "id": "e332dd10",
   "metadata": {},
   "outputs": [],
   "source": [
    "import yesg"
   ]
  },
  {
   "cell_type": "code",
   "execution_count": 52,
   "id": "2777a8e2",
   "metadata": {},
   "outputs": [
    {
     "data": {
      "text/html": [
       "<div>\n",
       "<style scoped>\n",
       "    .dataframe tbody tr th:only-of-type {\n",
       "        vertical-align: middle;\n",
       "    }\n",
       "\n",
       "    .dataframe tbody tr th {\n",
       "        vertical-align: top;\n",
       "    }\n",
       "\n",
       "    .dataframe thead th {\n",
       "        text-align: right;\n",
       "    }\n",
       "</style>\n",
       "<table border=\"1\" class=\"dataframe\">\n",
       "  <thead>\n",
       "    <tr style=\"text-align: right;\">\n",
       "      <th></th>\n",
       "      <th>Total-Score</th>\n",
       "      <th>E-Score</th>\n",
       "      <th>S-Score</th>\n",
       "      <th>G-Score</th>\n",
       "    </tr>\n",
       "    <tr>\n",
       "      <th>Date</th>\n",
       "      <th></th>\n",
       "      <th></th>\n",
       "      <th></th>\n",
       "      <th></th>\n",
       "    </tr>\n",
       "  </thead>\n",
       "  <tbody>\n",
       "    <tr>\n",
       "      <th>2014-09-01</th>\n",
       "      <td>47.00</td>\n",
       "      <td>54.00</td>\n",
       "      <td>37.00</td>\n",
       "      <td>57.00</td>\n",
       "    </tr>\n",
       "    <tr>\n",
       "      <th>2014-10-01</th>\n",
       "      <td>47.00</td>\n",
       "      <td>55.00</td>\n",
       "      <td>37.00</td>\n",
       "      <td>57.00</td>\n",
       "    </tr>\n",
       "    <tr>\n",
       "      <th>2014-11-01</th>\n",
       "      <td>47.00</td>\n",
       "      <td>54.00</td>\n",
       "      <td>37.00</td>\n",
       "      <td>57.00</td>\n",
       "    </tr>\n",
       "    <tr>\n",
       "      <th>2014-12-01</th>\n",
       "      <td>47.00</td>\n",
       "      <td>54.00</td>\n",
       "      <td>37.00</td>\n",
       "      <td>57.00</td>\n",
       "    </tr>\n",
       "    <tr>\n",
       "      <th>2015-01-01</th>\n",
       "      <td>66.00</td>\n",
       "      <td>57.00</td>\n",
       "      <td>72.00</td>\n",
       "      <td>67.00</td>\n",
       "    </tr>\n",
       "    <tr>\n",
       "      <th>...</th>\n",
       "      <td>...</td>\n",
       "      <td>...</td>\n",
       "      <td>...</td>\n",
       "      <td>...</td>\n",
       "    </tr>\n",
       "    <tr>\n",
       "      <th>2022-04-01</th>\n",
       "      <td>NaN</td>\n",
       "      <td>NaN</td>\n",
       "      <td>NaN</td>\n",
       "      <td>NaN</td>\n",
       "    </tr>\n",
       "    <tr>\n",
       "      <th>2022-05-01</th>\n",
       "      <td>18.18</td>\n",
       "      <td>1.38</td>\n",
       "      <td>7.70</td>\n",
       "      <td>9.10</td>\n",
       "    </tr>\n",
       "    <tr>\n",
       "      <th>2022-06-01</th>\n",
       "      <td>NaN</td>\n",
       "      <td>NaN</td>\n",
       "      <td>NaN</td>\n",
       "      <td>NaN</td>\n",
       "    </tr>\n",
       "    <tr>\n",
       "      <th>2022-07-01</th>\n",
       "      <td>NaN</td>\n",
       "      <td>NaN</td>\n",
       "      <td>NaN</td>\n",
       "      <td>NaN</td>\n",
       "    </tr>\n",
       "    <tr>\n",
       "      <th>2022-08-01</th>\n",
       "      <td>18.47</td>\n",
       "      <td>1.38</td>\n",
       "      <td>8.15</td>\n",
       "      <td>8.95</td>\n",
       "    </tr>\n",
       "  </tbody>\n",
       "</table>\n",
       "<p>96 rows × 4 columns</p>\n",
       "</div>"
      ],
      "text/plain": [
       "            Total-Score  E-Score  S-Score  G-Score\n",
       "Date                                              \n",
       "2014-09-01        47.00    54.00    37.00    57.00\n",
       "2014-10-01        47.00    55.00    37.00    57.00\n",
       "2014-11-01        47.00    54.00    37.00    57.00\n",
       "2014-12-01        47.00    54.00    37.00    57.00\n",
       "2015-01-01        66.00    57.00    72.00    67.00\n",
       "...                 ...      ...      ...      ...\n",
       "2022-04-01          NaN      NaN      NaN      NaN\n",
       "2022-05-01        18.18     1.38     7.70     9.10\n",
       "2022-06-01          NaN      NaN      NaN      NaN\n",
       "2022-07-01          NaN      NaN      NaN      NaN\n",
       "2022-08-01        18.47     1.38     8.15     8.95\n",
       "\n",
       "[96 rows x 4 columns]"
      ]
     },
     "execution_count": 52,
     "metadata": {},
     "output_type": "execute_result"
    }
   ],
   "source": [
    "ESG = yesg.get_historic_esg('ZTS')\n",
    "ESG"
   ]
  },
  {
   "cell_type": "code",
   "execution_count": 53,
   "id": "177d0540",
   "metadata": {},
   "outputs": [
    {
     "name": "stderr",
     "output_type": "stream",
     "text": [
      "/var/folders/xg/sx9bp7zd1t987x6ch0h3jqg80000gn/T/ipykernel_75980/179703656.py:1: UserWarning: Pandas doesn't allow columns to be created via a new attribute name - see https://pandas.pydata.org/pandas-docs/stable/indexing.html#attribute-access\n",
      "  ESG.new = pd.DataFrame.dropna(ESG)\n"
     ]
    },
    {
     "data": {
      "text/plain": [
       "Date\n",
       "2015-01-01    66.00\n",
       "2015-02-01    66.00\n",
       "2015-03-01    61.00\n",
       "2015-04-01    61.00\n",
       "2015-05-01    61.00\n",
       "2015-06-01    61.00\n",
       "2015-07-01    61.00\n",
       "2015-08-01    61.00\n",
       "2015-09-01    60.00\n",
       "2015-10-01    56.00\n",
       "2015-11-01    56.00\n",
       "2015-12-01    56.00\n",
       "2016-01-01    56.26\n",
       "2016-02-01    56.12\n",
       "2016-03-01    56.12\n",
       "2016-04-01    53.84\n",
       "2016-05-01    53.84\n",
       "2016-06-01    53.84\n",
       "2016-07-01    53.84\n",
       "2016-08-01    53.84\n",
       "2016-09-01    53.84\n",
       "2016-10-01    53.84\n",
       "2016-11-01    53.84\n",
       "2016-12-01    53.84\n",
       "2017-01-01    50.90\n",
       "2017-02-01    50.90\n",
       "2017-03-01    50.90\n",
       "2017-04-01    50.90\n",
       "2017-05-01    50.90\n",
       "2017-06-01    50.90\n",
       "2017-07-01    50.90\n",
       "2017-08-01    50.86\n",
       "2017-09-01    50.86\n",
       "2017-10-01    50.56\n",
       "2017-11-01    50.56\n",
       "2017-12-01    50.56\n",
       "2018-01-01    50.56\n",
       "2018-02-01    50.56\n",
       "2018-03-01    50.56\n",
       "2018-04-01    51.09\n",
       "2018-05-01    51.09\n",
       "2018-06-01    51.09\n",
       "2018-07-01    51.09\n",
       "2018-08-01    51.09\n",
       "2018-09-01    51.09\n",
       "2018-10-01    51.09\n",
       "2018-11-01    50.79\n",
       "2018-12-01    50.79\n",
       "2019-01-01    50.79\n",
       "2019-02-01    50.79\n",
       "2019-03-01    50.35\n",
       "2019-04-01    50.35\n",
       "2019-05-01    50.35\n",
       "2019-06-01    50.35\n",
       "2019-07-01    50.35\n",
       "2019-08-01    50.35\n",
       "2019-09-01    50.35\n",
       "2019-10-01    50.31\n",
       "2019-11-01    50.31\n",
       "2019-12-01    50.08\n",
       "Name: Total-Score, dtype: float64"
      ]
     },
     "execution_count": 53,
     "metadata": {},
     "output_type": "execute_result"
    }
   ],
   "source": [
    "ESG.new = pd.DataFrame.dropna(ESG)\n",
    "ESG.new = ESG.new['Total-Score']\n",
    "ESG.new = ESG.new['2015-01-01':'2019-12-31']\n",
    "ESG.new"
   ]
  },
  {
   "cell_type": "code",
   "execution_count": 54,
   "id": "f37ad841",
   "metadata": {},
   "outputs": [
    {
     "data": {
      "text/plain": [
       "Text(0.5, 1.0, 'ESG (Total Score)for Zoetis Inc.')"
      ]
     },
     "execution_count": 54,
     "metadata": {},
     "output_type": "execute_result"
    },
    {
     "data": {
      "image/png": "[encoded data removed]",
      "text/plain": [
       "<Figure size 1000x600 with 1 Axes>"
      ]
     },
     "metadata": {},
     "output_type": "display_data"
    }
   ],
   "source": [
    "ESG.new.plot(figsize=(10, 6))\n",
    "plt.xlabel('Time')\n",
    "plt.ylabel('score')\n",
    "plt.title('ESG (Total Score)for Zoetis Inc.')\n"
   ]
  },
  {
   "cell_type": "code",
   "execution_count": 55,
   "id": "4d3af99d",
   "metadata": {},
   "outputs": [
    {
     "name": "stdout",
     "output_type": "stream",
     "text": [
      "The correlation between the log returns of the stock price and ESG Total Score is -0.0439\n"
     ]
    }
   ],
   "source": [
    "data['LogRet'] = np.log(data['Close'] / data['Close'].shift(1))\n",
    "\n",
    "# Calculate logarithmic returns for the ESG Total Score\n",
    "ESG['LogRet'] = np.log(ESG['Total-Score'] / ESG['Total-Score'].shift(1))\n",
    "\n",
    "# Align the datasets and calculate the correlation\n",
    "merged_data = pd.merge(data[['LogRet']], ESG[['LogRet']], left_index=True, right_index=True, how='inner')\n",
    "correlation = merged_data['LogRet_x'].corr(merged_data['LogRet_y'])\n",
    "\n",
    "# Print the correlation\n",
    "print(f\"The correlation between the log returns of the stock price and ESG Total Score is {correlation:.4f}\")"
   ]
  },
  {
   "cell_type": "code",
   "execution_count": null,
   "id": "f03421c4",
   "metadata": {},
   "outputs": [],
   "source": []
  }
 ],
 "metadata": {
  "kernelspec": {
   "display_name": "Python 3 (ipykernel)",
   "language": "python",
   "name": "python3"
  },
  "language_info": {
   "codemirror_mode": {
    "name": "ipython",
    "version": 3
   },
   "file_extension": ".py",
   "mimetype": "text/x-python",
   "name": "python",
   "nbconvert_exporter": "python",
   "pygments_lexer": "ipython3",
   "version": "3.11.5"
  }
 },
 "nbformat": 4,
 "nbformat_minor": 5
}
